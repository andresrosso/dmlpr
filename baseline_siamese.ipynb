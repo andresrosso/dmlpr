{
 "cells": [
  {
   "cell_type": "code",
   "execution_count": 1,
   "metadata": {},
   "outputs": [
    {
     "name": "stdout",
     "output_type": "stream",
     "text": [
      "{\n",
      "    \"bioasq_data\": \"/home/aerossom/bioasq_data/\",\n",
      "    \"cooc_home\": \"/home/aerossom/bioasq_data/embeddings/cooccurrence_matrices\",\n",
      "    \"eval_home\": \"/home/aerossom/git_repos/Evaluation-Measures/\",\n",
      "    \"home_path\": \"/home/aerossom/git_repos/dmlpr\",\n",
      "    \"word2vec_model\": \"/home/aerossom/bioasq_data/embeddings/wikipedia-pubmed-and-PMC-w2v.bin\"\n",
      "}\n",
      "channels_last\n"
     ]
    }
   ],
   "source": [
    "import json\n",
    "import sys\n",
    "from os import path\n",
    "config_params = json.load(open('config.json','r'))['lisi1']\n",
    "print(json.dumps(config_params, indent=4, sort_keys=True))\n",
    "home_path = config_params[\"home_path\"]\n",
    "eval_home = config_params[\"eval_home\"]\n",
    "cooc_home = config_params[\"cooc_home\"]\n",
    "sys.path.append(path.abspath(\"../\"))\n",
    "sys.path.append(path.abspath(\"../bioasqdataset\"))\n",
    "import bioasqdataset.common.qa_data as qa_data\n",
    "import bioasqdataset.common.bioasq_util as bioasq_util\n",
    "word2vec_model = config_params[\"word2vec_model\"]\n",
    "sys.path.insert(0, eval_home)\n",
    "sys.path.insert(0, home_path+'/common')\n",
    "import map_callback\n",
    "import map_eval\n",
    "import bioasq_eval\n",
    "from elasticsearch import Elasticsearch\n",
    "import ranking\n",
    "import importlib\n",
    "from sklearn.metrics import confusion_matrix\n",
    "import seaborn as sns\n",
    "from operator import itemgetter \n",
    "import importlib\n",
    "import threading\n",
    "from os import listdir\n",
    "from os.path import isfile, join\n",
    "import matplotlib\n",
    "import seaborn as sns\n",
    "import pylab as plt\n",
    "import nlp_util\n",
    "import time\n",
    "import os\n",
    "import pandas as pd\n",
    "import json\n",
    "import logging\n",
    "import copy\n",
    "import tensorflow as tf\n",
    "from tensorflow.keras.callbacks import ModelCheckpoint, EarlyStopping, Callback\n",
    "from tensorflow.keras.layers import Lambda, Conv2D, Conv3D, MaxPooling2D, GlobalMaxPool2D, GlobalMaxPool3D, MaxPool2D, MaxPool3D, Flatten, Dense, Dropout, Input, Concatenate, Activation\n",
    "from tensorflow.keras.models import Model, Sequential\n",
    "from tensorflow.keras.models import load_model\n",
    "from tqdm import tqdm\n",
    "import p_tqdm\n",
    "from itertools import groupby\n",
    "import sys\n",
    "import pickle\n",
    "import numpy as np\n",
    "import threading\n",
    "import random\n",
    "from scipy import spatial\n",
    "import re\n",
    "import nltk\n",
    "from nltk.corpus import stopwords\n",
    "from nltk.tokenize import sent_tokenize\n",
    "from random import shuffle\n",
    "import random\n",
    "import gensim\n",
    "from gensim.models import Word2Vec\n",
    "from gensim.models import KeyedVectors\n",
    "#tensorflow.keras.backend.set_image_data_format('channels_first')\n",
    "print(tf.keras.backend.image_data_format())\n",
    "import importlib\n",
    "importlib.reload(nlp_util)\n",
    "\n",
    "logging.config.fileConfig(home_path+\"/logging.conf\")\n",
    "logger = logging.getLogger()\n",
    "logger.setLevel(logging.ERROR)\n",
    "\n",
    "w2v_dim = 200\n",
    "max_terms = 40\n",
    "sim_dim = 1\n",
    "working_folder = 'working_folder'\n",
    "model_id = 'cnn_sim_dml'\n",
    "positive_rate = 0.5\n",
    "prep_step = []"
   ]
  },
  {
   "cell_type": "code",
   "execution_count": 2,
   "metadata": {},
   "outputs": [],
   "source": [
    "w2v = KeyedVectors.load_word2vec_format(word2vec_model, binary=True)"
   ]
  },
  {
   "cell_type": "code",
   "execution_count": 3,
   "metadata": {},
   "outputs": [],
   "source": [
    "def getSalienceScore(qv, av, maxterms=40):\n",
    "    score = 0\n",
    "    imp_postag = set(['VB', 'VBD', 'VBG', 'VBN', 'VBP', 'VBZ', 'NN', 'NNS', 'NNP', 'NNPS', 'JJ'])\n",
    "    #imp_postag = set(['VB', 'VBD', 'VBG', 'VBN', 'VBP', 'VBZ', 'WDT', 'WP', 'WP', 'WRB', 'NN', 'NNS', 'NNP', 'NNPS', 'MD'])\n",
    "    #imp_postag = set(['WRB','VB', 'VBD', 'VBG', 'VBN', 'VBP','VBZ', 'WDT', 'WP', 'WRB', 'NN', 'NNS', 'NNP', 'NNPS', 'MD'])\n",
    "    pq = nltk.pos_tag(qv)\n",
    "    pa = nltk.pos_tag(av)\n",
    "    out_m = np.zeros( (maxterms, maxterms) )\n",
    "    if len(pq)>maxterms:\n",
    "        pq = pq[0:maxterms]\n",
    "    if len(pa)>maxterms:\n",
    "        pa = pa[0:maxterms]\n",
    "    wq_m = np.zeros((maxterms,maxterms))\n",
    "    wa_m = np.zeros((maxterms,maxterms))\n",
    "\n",
    "    pq_l = [len(set([qt[1]]).intersection(imp_postag))+1 for qt in pq]\n",
    "    pa_l = [len(set([at[1]]).intersection(imp_postag))+1 for at in pa]\n",
    "\n",
    "    wq_m[0:len(pa_l) , 0:len(pq_l)]=pq_l\n",
    "    wa_m[0:len(pq_l) , 0:len(pa_l)]=pa_l\n",
    "\n",
    "    out_m = (wq_m.T + wa_m)/4\n",
    "    return out_m[0:maxterms,0:maxterms]\n",
    "\n",
    "def buildCosineSimMatrix(questions_answer_pairs, max_terms=40):\n",
    "    #build Question Answer Matrix Pairs\n",
    "    x = []\n",
    "    y = []    \n",
    "    data = p_tqdm.p_map(transform_single_pair,questions_answer_pairs)\n",
    "    x, y = zip(*data)\n",
    "    return np.array(x), np.array(y)\n",
    "\n",
    "def transform_single_pair(pair, max_terms=40):\n",
    "    #Construct Question Answer Matrix Pairs\n",
    "    q_list = nlp_util.data_preprocess(pair['body'], prep_step)\n",
    "    #Answer processing\n",
    "    a_list = nlp_util.data_preprocess(pair['text'], prep_step)\n",
    "    #w2v representation matrices\n",
    "    q_w2v_matrix = np.zeros((max_terms,w2v_dim))\n",
    "    a_w2v_matrix = np.zeros((max_terms,w2v_dim))\n",
    "    #question transformation\n",
    "    q_term_i = 0\n",
    "    for i, q_i in enumerate(q_list):\n",
    "        if q_i in w2v:\n",
    "            q_w2v_matrix[q_term_i] = w2v[q_i]\n",
    "            q_term_i += 1\n",
    "            if q_term_i >= max_terms:\n",
    "                break\n",
    "    #passage transformation\n",
    "    a_term_i = 0\n",
    "    for i, a_i in enumerate(a_list):\n",
    "        if a_i in w2v:\n",
    "            a_w2v_matrix[a_term_i] = w2v[a_i]\n",
    "            a_term_i += 1\n",
    "            if a_term_i >= max_terms:\n",
    "                break\n",
    "    return (np.expand_dims(q_w2v_matrix, axis=-1), np.expand_dims(a_w2v_matrix, axis=-1), pair['label'])"
   ]
  },
  {
   "cell_type": "code",
   "execution_count": 4,
   "metadata": {},
   "outputs": [],
   "source": [
    "EMBEDDING_SIZE = 128\n",
    "MARGIN = 0.4\n",
    "\n",
    "def pos_distance(y_true, y_pred):\n",
    "    positive_vec = y_pred[:, 0]\n",
    "    pos_dist = K.sum(positive_vec, axis=-1 )\n",
    "    return pos_dist\n",
    "\n",
    "def neg_distance(y_true, y_pred):\n",
    "    negative_vec = y_pred[:, 1]\n",
    "    neg_dist = K.sum(negative_vec, axis=-1 )\n",
    "    return neg_dist\n",
    "\n",
    "def triplet_loss_distance(y_true, y_pred, alpha = MARGIN):\n",
    "    positive_vec = y_pred[:, 0]\n",
    "    negative_vec = y_pred[:, 1]\n",
    "    \n",
    "    # distance between the anchor and the positive\n",
    "    pos_sum = K.sum( (positive_vec), axis=-1 )\n",
    "    neg_sum = K.sum( (negative_vec), axis=-1 )\n",
    "    \n",
    "    basic_loss = positive_vec - negative_vec + alpha\n",
    "    \n",
    "    loss = K.maximum(basic_loss,0.0) \n",
    "\n",
    "    return loss"
   ]
  },
  {
   "cell_type": "code",
   "execution_count": 134,
   "metadata": {},
   "outputs": [
    {
     "name": "stdout",
     "output_type": "stream",
     "text": [
      "Model: \"sim_model\"\n",
      "_________________________________________________________________\n",
      "Layer (type)                 Output Shape              Param #   \n",
      "=================================================================\n",
      "conv2d_2 (Conv2D)            (None, 40, 200, 512)      5120      \n",
      "_________________________________________________________________\n",
      "activation_8 (Activation)    (None, 40, 200, 512)      0         \n",
      "_________________________________________________________________\n",
      "cnn_max_pool (GlobalMaxPooli (None, 512)               0         \n",
      "_________________________________________________________________\n",
      "dropout_4 (Dropout)          (None, 512)               0         \n",
      "_________________________________________________________________\n",
      "dense_1st (Dense)            (None, 256)               131328    \n",
      "_________________________________________________________________\n",
      "activation_9 (Activation)    (None, 256)               0         \n",
      "_________________________________________________________________\n",
      "dropout_5 (Dropout)          (None, 256)               0         \n",
      "_________________________________________________________________\n",
      "emdedding_128d (Dense)       (None, 128)               32896     \n",
      "_________________________________________________________________\n",
      "activation_10 (Activation)   (None, 128)               0         \n",
      "_________________________________________________________________\n",
      "output (Dense)               (None, 1)                 129       \n",
      "_________________________________________________________________\n",
      "activation_11 (Activation)   (None, 1)                 0         \n",
      "=================================================================\n",
      "Total params: 169,473\n",
      "Trainable params: 169,473\n",
      "Non-trainable params: 0\n",
      "_________________________________________________________________\n",
      "Model: \"model_2\"\n",
      "__________________________________________________________________________________________________\n",
      "Layer (type)                    Output Shape         Param #     Connected to                     \n",
      "==================================================================================================\n",
      "input_5 (InputLayer)            [(None, 40, 200, 1)] 0                                            \n",
      "__________________________________________________________________________________________________\n",
      "input_6 (InputLayer)            [(None, 40, 200, 1)] 0                                            \n",
      "__________________________________________________________________________________________________\n",
      "sim_model (Sequential)          (None, 1)            169473      input_5[0][0]                    \n",
      "                                                                 input_6[0][0]                    \n",
      "__________________________________________________________________________________________________\n",
      "vectors (Concatenate)           (None, 2)            0           sim_model[1][0]                  \n",
      "                                                                 sim_model[2][0]                  \n",
      "==================================================================================================\n",
      "Total params: 169,473\n",
      "Trainable params: 169,473\n",
      "Non-trainable params: 0\n",
      "__________________________________________________________________________________________________\n"
     ]
    }
   ],
   "source": [
    "from tensorflow import keras\n",
    "from tensorflow.keras.layers import *\n",
    "from tensorflow.keras.models import Model, Sequential\n",
    "from tensorflow.keras import backend as K\n",
    "\n",
    "\n",
    "sim_model = None\n",
    "train_model = None\n",
    "\n",
    "def make_sim_model(layer_name='sim_model'):\n",
    "    model = Sequential(name=layer_name)\n",
    "    model.add(Conv2D(512, (3, 3), padding='same',\n",
    "                 input_shape=(max_terms, w2v_dim, sim_dim)))\n",
    "    model.add(Activation('relu'))\n",
    "    model.add(GlobalMaxPool2D(name='cnn_max_pool'))\n",
    "    model.add(Dropout(0.1))\n",
    "    model.add(Dense(256, name='dense_1st'))\n",
    "    model.add(Activation('sigmoid'))\n",
    "    model.add(Dropout(0.1))\n",
    "    model.add(Dense(128, name='emdedding_128d'))\n",
    "    model.add(Activation('relu'))\n",
    "    model.add(Dense(1, name='output'))\n",
    "    model.add(Activation('sigmoid'))\n",
    "    return model\n",
    "\n",
    "def make_siamese_model(sim_model):\n",
    "    positive = Input(shape=(max_terms, w2v_dim, sim_dim))\n",
    "    negative = Input(shape=(max_terms, w2v_dim, sim_dim))\n",
    "    positive_out = sim_model(positive)\n",
    "    negative_out = sim_model(negative)\n",
    "    vecs = Concatenate(axis=1, name='vectors')([positive_out, negative_out])\n",
    "    model = Model([positive, negative], vecs)\n",
    "    #model.compile('adam', triplet_loss_cosine, metrics=[cos_sim_pos, cos_sim_neg])\n",
    "    model.compile('adam', triplet_loss_distance, metrics=[pos_distance, neg_distance])\n",
    "    return model\n",
    "\n",
    "sim_model = make_sim_model()\n",
    "train_model = make_siamese_model(sim_model)\n",
    "sim_model.summary()\n",
    "train_model.summary()"
   ]
  },
  {
   "cell_type": "code",
   "execution_count": 135,
   "metadata": {},
   "outputs": [
    {
     "name": "stdout",
     "output_type": "stream",
     "text": [
      "2016 ../bioasqdataset/generated_pairs\n",
      "Loaded BioasqUnalDataSet\n",
      "threshold  (0.0, 1)\n",
      "Number of pairs: 500248\n"
     ]
    }
   ],
   "source": [
    "#load dataset\n",
    "\n",
    "#dataset_id = ('BiosqDataSet', config_params[\"train_data_dir\"])\n",
    "dataset_id = ('BioasqUnalDataSet', '../bioasqdataset/generated_pairs') \n",
    "ds = qa_data.DataSetFactory.loadDataSet(dataset_id[0],year='2016',\\\n",
    "                            path=dataset_id[1], threshold=(0.0,1))\n",
    "bioasq_dataset = ds.build_qa_pairs(ds)\n",
    "\n",
    "pairs = []\n",
    "\n",
    "for p in bioasq_dataset:\n",
    "    pairs.append( { 'id': p.qi,  'body': p.q, 'text': p.a, 'label':p.l, 'params':p.params } )"
   ]
  },
  {
   "cell_type": "code",
   "execution_count": 136,
   "metadata": {},
   "outputs": [],
   "source": [
    "ids = list(set(map(itemgetter('id'), pairs)))\n",
    "random.shuffle(ids)\n",
    "qids_train, qids_val, qids_test = np.split( np.array(ids), [ int(.75 * len(ids)), int(.85 * len(ids)) ] )\n",
    "qids_train = set(qids_train)\n",
    "qids_val = set(qids_val)\n",
    "qids_test = set(qids_test)\n",
    "pairs_train = [ x for x in pairs if x['id'] in qids_train ]\n",
    "pairs_val = [ x for x in pairs if x['id'] in qids_val ]\n",
    "pairs_test = [ x for x in pairs if x['id'] in qids_test ]"
   ]
  },
  {
   "cell_type": "code",
   "execution_count": 137,
   "metadata": {},
   "outputs": [
    {
     "name": "stdout",
     "output_type": "stream",
     "text": [
      "train # 373455, test # 75121, val #51672 \n"
     ]
    }
   ],
   "source": [
    "print('train # {}, test # {}, val #{} '.format(len(pairs_train),len(pairs_test),len(pairs_val)))"
   ]
  },
  {
   "cell_type": "code",
   "execution_count": 138,
   "metadata": {},
   "outputs": [],
   "source": [
    "def data_generator(passages, batch_size = 32, threshold = None ):\n",
    "    \n",
    "    pos_passages = [ x for x in passages if x['label'] == 1 ] \n",
    "    neg_passages = [ x for x in passages if x['label'] == 0 ] \n",
    "    print('+({}) -({})'.format(len(pos_passages),len(neg_passages)))\n",
    "    \n",
    "    while True:\n",
    "        pos_sample = random.sample( pos_passages, int(batch_size/2) )\n",
    "        pos_sample = [ transform_single_pair(x) for x in pos_sample ]\n",
    "        neg_sample = random.sample( neg_passages, int(batch_size/2) )\n",
    "        neg_sample = [ transform_single_pair(x) for x in neg_sample ]\n",
    "        samples = pos_sample + neg_sample\n",
    "        random.shuffle(samples)\n",
    "        samples_q = [ x[0] for x in samples ]\n",
    "        samples_a = [ x[1] for x in samples ]\n",
    "        samples_l = [ [0,0] if x[2] == 1 else [0,1]  for x in samples ]\n",
    "        yield ( [np.array(samples_q), np.array(samples_a)], np.array(samples_l) )"
   ]
  },
  {
   "cell_type": "code",
   "execution_count": 139,
   "metadata": {},
   "outputs": [],
   "source": [
    "# #############\n",
    "# Call Backs\n",
    "# #############\n",
    "filepath = working_folder + \"/\" + model_id + \"_weights.best.h5\"\n",
    "\n",
    "checkpoint = tf.keras.callbacks.ModelCheckpoint(filepath, monitor='val_loss', \n",
    "                                                verbose=1, save_best_only=True, mode='min')\n",
    "\n",
    "earlyStop = tf.keras.callbacks.EarlyStopping(restore_best_weights=True,\n",
    "                                              monitor='val_loss',\n",
    "                                              min_delta=0, \n",
    "                                              patience=5,\n",
    "                                              verbose=1, \n",
    "                                              mode='auto')\n",
    "\n",
    "best_model_path = 'working_folder/map_best_' + model_id + '.h5'\n",
    "\n",
    "\"\"\"\n",
    "Return the list of predictions in binary format {1: for related passages, 0: no related}\n",
    "\"\"\"\n",
    "def predict_function(x_samples):\n",
    "    x_samples = np.asarray([ x[0] for x in x_samples])\n",
    "    y_pred = sim_model.predict( x_samples )\n",
    "    y_pred = np.squeeze(y_pred)\n",
    "    y_pred = list(np.where(y_pred > 0.5, 1, 0))\n",
    "    return y_pred\n",
    "\n",
    "mapcallback = map_callback.MAPCallback(pairs_val, filepath=best_model_path, \n",
    "                                       predict_fc=predict_function, save_weights_only=True)"
   ]
  },
  {
   "cell_type": "code",
   "execution_count": 140,
   "metadata": {},
   "outputs": [
    {
     "name": "stdout",
     "output_type": "stream",
     "text": [
      "+(24944) -(348511)\n",
      "+(3265) -(48407)\n",
      "Train for 500 steps, validate for 50 steps\n",
      "Epoch 1/30\n",
      "499/500 [============================>.] - ETA: 0s - loss: 0.2025 - pos_distance: 12.6073 - neg_distance: 22.8306\n",
      "Epoch 00001: val_loss improved from inf to 0.20526, saving model to working_folder/cnn_sim_dml_weights.best.h5\n",
      "500/500 [==============================] - 28s 57ms/step - loss: 0.2025 - pos_distance: 12.6029 - neg_distance: 22.8288 - val_loss: 0.2053 - val_pos_distance: 13.1797 - val_neg_distance: 23.7084\n",
      "Epoch 2/30\n",
      "499/500 [============================>.] - ETA: 0s - loss: 0.1799 - pos_distance: 11.5844 - neg_distance: 23.2908\n",
      "Epoch 00002: val_loss improved from 0.20526 to 0.20439, saving model to working_folder/cnn_sim_dml_weights.best.h5\n",
      "500/500 [==============================] - 27s 54ms/step - loss: 0.1798 - pos_distance: 11.5847 - neg_distance: 23.2952 - val_loss: 0.2044 - val_pos_distance: 11.9575 - val_neg_distance: 22.5297\n",
      "Epoch 3/30\n",
      "499/500 [============================>.] - ETA: 0s - loss: 0.1759 - pos_distance: 10.9925 - neg_distance: 22.9437\n",
      "Epoch 00003: val_loss improved from 0.20439 to 0.18338, saving model to working_folder/cnn_sim_dml_weights.best.h5\n",
      "500/500 [==============================] - 27s 54ms/step - loss: 0.1759 - pos_distance: 10.9939 - neg_distance: 22.9456 - val_loss: 0.1834 - val_pos_distance: 11.5857 - val_neg_distance: 22.8967\n",
      "Epoch 4/30\n",
      "499/500 [============================>.] - ETA: 0s - loss: 0.1735 - pos_distance: 11.0680 - neg_distance: 23.0586\n",
      "Epoch 00004: val_loss did not improve from 0.18338\n",
      "500/500 [==============================] - 27s 54ms/step - loss: 0.1734 - pos_distance: 11.0656 - neg_distance: 23.0624 - val_loss: 0.1896 - val_pos_distance: 13.5623 - val_neg_distance: 24.3401\n",
      "Epoch 5/30\n",
      "499/500 [============================>.] - ETA: 0s - loss: 0.1616 - pos_distance: 10.1491 - neg_distance: 22.7109\n",
      "Epoch 00005: val_loss did not improve from 0.18338\n",
      "500/500 [==============================] - 27s 54ms/step - loss: 0.1616 - pos_distance: 10.1546 - neg_distance: 22.7169 - val_loss: 0.1868 - val_pos_distance: 14.6969 - val_neg_distance: 25.6991\n",
      "Epoch 6/30\n",
      "499/500 [============================>.] - ETA: 0s - loss: 0.1495 - pos_distance: 9.4504 - neg_distance: 22.7522\n",
      "Epoch 00006: val_loss improved from 0.18338 to 0.18020, saving model to working_folder/cnn_sim_dml_weights.best.h5\n",
      "500/500 [==============================] - 27s 54ms/step - loss: 0.1495 - pos_distance: 9.4518 - neg_distance: 22.7561 - val_loss: 0.1802 - val_pos_distance: 12.2210 - val_neg_distance: 23.8112\n",
      "Epoch 7/30\n",
      "499/500 [============================>.] - ETA: 0s - loss: 0.1416 - pos_distance: 9.0302 - neg_distance: 22.8570\n",
      "Epoch 00007: val_loss improved from 0.18020 to 0.16891, saving model to working_folder/cnn_sim_dml_weights.best.h5\n",
      "500/500 [==============================] - 27s 54ms/step - loss: 0.1416 - pos_distance: 9.0267 - neg_distance: 22.8546 - val_loss: 0.1689 - val_pos_distance: 7.3633 - val_neg_distance: 19.2229\n",
      "Epoch 8/30\n",
      "499/500 [============================>.] - ETA: 0s - loss: 0.1339 - pos_distance: 8.6550 - neg_distance: 23.0050\n",
      "Epoch 00008: val_loss did not improve from 0.16891\n",
      "500/500 [==============================] - 27s 54ms/step - loss: 0.1339 - pos_distance: 8.6574 - neg_distance: 23.0106 - val_loss: 0.1769 - val_pos_distance: 13.0071 - val_neg_distance: 25.5841\n",
      "Epoch 9/30\n",
      "499/500 [============================>.] - ETA: 0s - loss: 0.1297 - pos_distance: 8.2764 - neg_distance: 22.9492\n",
      "Epoch 00009: val_loss improved from 0.16891 to 0.15594, saving model to working_folder/cnn_sim_dml_weights.best.h5\n",
      "500/500 [==============================] - 27s 54ms/step - loss: 0.1296 - pos_distance: 8.2768 - neg_distance: 22.9524 - val_loss: 0.1559 - val_pos_distance: 9.9632 - val_neg_distance: 23.1475\n",
      "Epoch 10/30\n",
      "499/500 [============================>.] - ETA: 0s - loss: 0.1216 - pos_distance: 7.9830 - neg_distance: 23.2736\n",
      "Epoch 00010: val_loss improved from 0.15594 to 0.15428, saving model to working_folder/cnn_sim_dml_weights.best.h5\n",
      "500/500 [==============================] - 27s 54ms/step - loss: 0.1215 - pos_distance: 7.9817 - neg_distance: 23.2740 - val_loss: 0.1543 - val_pos_distance: 11.1370 - val_neg_distance: 24.3575\n",
      "Epoch 11/30\n",
      "499/500 [============================>.] - ETA: 0s - loss: 0.1174 - pos_distance: 7.8949 - neg_distance: 23.3911\n",
      "Epoch 00011: val_loss did not improve from 0.15428\n",
      "500/500 [==============================] - 27s 54ms/step - loss: 0.1175 - pos_distance: 7.8952 - neg_distance: 23.3909 - val_loss: 0.1614 - val_pos_distance: 8.1800 - val_neg_distance: 21.5851\n",
      "Epoch 12/30\n",
      "499/500 [============================>.] - ETA: 0s - loss: 0.1129 - pos_distance: 7.4508 - neg_distance: 23.5209\n",
      "Epoch 00012: val_loss improved from 0.15428 to 0.14790, saving model to working_folder/cnn_sim_dml_weights.best.h5\n",
      "500/500 [==============================] - 27s 54ms/step - loss: 0.1128 - pos_distance: 7.4490 - neg_distance: 23.5266 - val_loss: 0.1479 - val_pos_distance: 9.8533 - val_neg_distance: 23.9179\n",
      "Epoch 13/30\n",
      "499/500 [============================>.] - ETA: 0s - loss: 0.1113 - pos_distance: 7.4622 - neg_distance: 23.5514\n",
      "Epoch 00013: val_loss did not improve from 0.14790\n",
      "500/500 [==============================] - 27s 54ms/step - loss: 0.1113 - pos_distance: 7.4620 - neg_distance: 23.5514 - val_loss: 0.1491 - val_pos_distance: 10.1200 - val_neg_distance: 24.1601\n",
      "Epoch 14/30\n",
      "499/500 [============================>.] - ETA: 0s - loss: 0.1051 - pos_distance: 7.4306 - neg_distance: 23.8744\n",
      "Epoch 00014: val_loss improved from 0.14790 to 0.14042, saving model to working_folder/cnn_sim_dml_weights.best.h5\n",
      "500/500 [==============================] - 27s 54ms/step - loss: 0.1050 - pos_distance: 7.4276 - neg_distance: 23.8753 - val_loss: 0.1404 - val_pos_distance: 8.6917 - val_neg_distance: 23.4866\n",
      "Epoch 15/30\n",
      "499/500 [============================>.] - ETA: 0s - loss: 0.1034 - pos_distance: 7.2911 - neg_distance: 23.8239\n",
      "Epoch 00015: val_loss did not improve from 0.14042\n",
      "500/500 [==============================] - 27s 54ms/step - loss: 0.1034 - pos_distance: 7.2940 - neg_distance: 23.8279 - val_loss: 0.1450 - val_pos_distance: 11.4983 - val_neg_distance: 25.6962\n",
      "Epoch 16/30\n",
      "499/500 [============================>.] - ETA: 0s - loss: 0.0995 - pos_distance: 7.2160 - neg_distance: 24.1590\n",
      "Epoch 00016: val_loss did not improve from 0.14042\n",
      "500/500 [==============================] - 27s 54ms/step - loss: 0.0995 - pos_distance: 7.2111 - neg_distance: 24.1529 - val_loss: 0.1503 - val_pos_distance: 7.4256 - val_neg_distance: 21.3537\n",
      "Epoch 17/30\n",
      "499/500 [============================>.] - ETA: 0s - loss: 0.0968 - pos_distance: 7.1516 - neg_distance: 24.3282\n",
      "Epoch 00017: val_loss did not improve from 0.14042\n",
      "500/500 [==============================] - 27s 54ms/step - loss: 0.0968 - pos_distance: 7.1535 - neg_distance: 24.3264 - val_loss: 0.1581 - val_pos_distance: 11.2430 - val_neg_distance: 25.7296\n",
      "Epoch 18/30\n",
      "499/500 [============================>.] - ETA: 0s - loss: 0.0943 - pos_distance: 6.9759 - neg_distance: 24.2647\n",
      "Epoch 00018: val_loss did not improve from 0.14042\n",
      "500/500 [==============================] - 27s 54ms/step - loss: 0.0942 - pos_distance: 6.9797 - neg_distance: 24.2697 - val_loss: 0.1408 - val_pos_distance: 8.7562 - val_neg_distance: 23.5245\n",
      "Epoch 19/30\n",
      "499/500 [============================>.] - ETA: 0s - loss: 0.0922 - pos_distance: 7.0560 - neg_distance: 24.4637\n",
      "Epoch 00019: val_loss improved from 0.14042 to 0.13693, saving model to working_folder/cnn_sim_dml_weights.best.h5\n",
      "500/500 [==============================] - 27s 54ms/step - loss: 0.0924 - pos_distance: 7.0483 - neg_distance: 24.4488 - val_loss: 0.1369 - val_pos_distance: 9.7703 - val_neg_distance: 23.9968\n",
      "Epoch 20/30\n",
      "499/500 [============================>.] - ETA: 0s - loss: 0.0916 - pos_distance: 7.0051 - neg_distance: 24.7046\n",
      "Epoch 00020: val_loss did not improve from 0.13693\n",
      "500/500 [==============================] - 27s 54ms/step - loss: 0.0916 - pos_distance: 7.0009 - neg_distance: 24.7033 - val_loss: 0.1395 - val_pos_distance: 9.0699 - val_neg_distance: 23.0269\n",
      "Epoch 21/30\n"
     ]
    },
    {
     "name": "stdout",
     "output_type": "stream",
     "text": [
      "499/500 [============================>.] - ETA: 0s - loss: 0.0905 - pos_distance: 6.9489 - neg_distance: 24.5235\n",
      "Epoch 00021: val_loss did not improve from 0.13693\n",
      "500/500 [==============================] - 27s 54ms/step - loss: 0.0905 - pos_distance: 6.9500 - neg_distance: 24.5271 - val_loss: 0.1542 - val_pos_distance: 13.4465 - val_neg_distance: 28.1067\n",
      "Epoch 22/30\n",
      "499/500 [============================>.] - ETA: 0s - loss: 0.0846 - pos_distance: 6.8807 - neg_distance: 24.8711\n",
      "Epoch 00022: val_loss did not improve from 0.13693\n",
      "500/500 [==============================] - 27s 54ms/step - loss: 0.0845 - pos_distance: 6.8767 - neg_distance: 24.8717 - val_loss: 0.1403 - val_pos_distance: 9.5177 - val_neg_distance: 24.7942\n",
      "Epoch 23/30\n",
      "499/500 [============================>.] - ETA: 0s - loss: 0.0831 - pos_distance: 6.8127 - neg_distance: 25.1449\n",
      "Epoch 00023: val_loss did not improve from 0.13693\n",
      "500/500 [==============================] - 27s 54ms/step - loss: 0.0832 - pos_distance: 6.8131 - neg_distance: 25.1440 - val_loss: 0.1399 - val_pos_distance: 9.9265 - val_neg_distance: 23.9275\n",
      "Epoch 24/30\n",
      "499/500 [============================>.] - ETA: 0s - loss: 0.0827 - pos_distance: 6.9788 - neg_distance: 25.1093\n",
      "Epoch 00024: val_loss did not improve from 0.13693\n",
      "Restoring model weights from the end of the best epoch.\n",
      "500/500 [==============================] - 27s 54ms/step - loss: 0.0827 - pos_distance: 6.9849 - neg_distance: 25.1174 - val_loss: 0.1550 - val_pos_distance: 14.5989 - val_neg_distance: 28.7911\n",
      "Epoch 00024: early stopping\n"
     ]
    }
   ],
   "source": [
    "batch_size = 32\n",
    "epochs = 30\n",
    "history = train_model.fit_generator(\n",
    "    data_generator(pairs_train, batch_size=batch_size, threshold = (0.4, 1)), \n",
    "    validation_data=data_generator(pairs_val, batch_size=batch_size, threshold = (0.0, 1)),\n",
    "    steps_per_epoch=500,#int(len(pairs_train)/batch_size), \n",
    "    validation_steps=50,#int(len(pairs_val)/batch_size),\n",
    "    epochs=epochs,\n",
    "    callbacks=[checkpoint, earlyStop])"
   ]
  },
  {
   "cell_type": "code",
   "execution_count": 177,
   "metadata": {},
   "outputs": [],
   "source": [
    "train_model.load_weights(filepath)\n",
    "weights_sim_model = train_model.get_layer('sim_model').get_weights()\n",
    "sim_model = make_sim_model() #assumed it returns the model of simmodel\n",
    "sim_model.set_weights(weights_sim_model)"
   ]
  },
  {
   "cell_type": "code",
   "execution_count": 178,
   "metadata": {},
   "outputs": [],
   "source": [
    "y_test = np.array([ y['label'] for y in pairs_test ])"
   ]
  },
  {
   "cell_type": "code",
   "execution_count": 179,
   "metadata": {},
   "outputs": [],
   "source": [
    "i = [i for i, x in enumerate(pairs_test) if x['label'] == 1]"
   ]
  },
  {
   "cell_type": "code",
   "execution_count": 180,
   "metadata": {},
   "outputs": [
    {
     "data": {
      "text/plain": [
       "[28172, 28173, 28174, 28175, 28176, 28177, 28178, 28179, 28180, 28181]"
      ]
     },
     "execution_count": 180,
     "metadata": {},
     "output_type": "execute_result"
    }
   ],
   "source": [
    "i[0:10]"
   ]
  },
  {
   "cell_type": "code",
   "execution_count": 208,
   "metadata": {},
   "outputs": [
    {
     "name": "stdout",
     "output_type": "stream",
     "text": [
      "0\n",
      "[[0.0015252]]\n",
      "[[0.98740315]]\n"
     ]
    }
   ],
   "source": [
    "x_rep = transform_single_pair(pairs_test[4])\n",
    "print(x_rep[2])\n",
    "print(sim_model.predict( [ [x_rep[0]] ] ))\n",
    "print(sim_model.predict( [ [x_rep[1]] ] ))"
   ]
  },
  {
   "cell_type": "code",
   "execution_count": 157,
   "metadata": {},
   "outputs": [],
   "source": [
    "y_pred = []\n",
    "x_batch_q = []\n",
    "x_batch_a = []\n",
    "for i, x in enumerate(pairs_test):\n",
    "    x_rep = transform_single_pair(x)\n",
    "    x_batch_q.append(x_rep[0])\n",
    "    x_batch_a.append(x_rep[1])\n",
    "    if (i > 0) & (i % 1000 == 0):\n",
    "        y_batch = sim_model.predict( [np.array(x_batch_q), np.array(x_batch_a)] )\n",
    "        #train_model.predict( [np.array(x_batch_q), np.array(x_batch_a)] )\n",
    "        y_pred.extend(y_batch)\n",
    "        x_batch_q = []\n",
    "        x_batch_a = []\n",
    "y_pred.extend( train_model.predict( [np.array(x_batch_q), np.array(x_batch_a)]) )"
   ]
  },
  {
   "cell_type": "code",
   "execution_count": 105,
   "metadata": {},
   "outputs": [],
   "source": [
    "y_pred_answer = [ y[1] for y in y_pred ]"
   ]
  },
  {
   "cell_type": "code",
   "execution_count": 106,
   "metadata": {},
   "outputs": [
    {
     "data": {
      "text/plain": [
       "<matplotlib.axes._subplots.AxesSubplot at 0x7fd074346cc0>"
      ]
     },
     "execution_count": 106,
     "metadata": {},
     "output_type": "execute_result"
    },
    {
     "data": {
      "image/png": "[encoded data removed]",
      "text/plain": [
       "<Figure size 432x288 with 1 Axes>"
      ]
     },
     "metadata": {
      "needs_background": "light"
     },
     "output_type": "display_data"
    }
   ],
   "source": [
    "idx_1 = np.argwhere(y_test == 1)\n",
    "idx_0 = np.argwhere(y_test == 0)\n",
    "sns.distplot(np.array(y_pred_answer)[idx_1], kde_kws={'label':'answer'}, color='blue')\n",
    "sns.distplot(np.array(y_pred_answer)[idx_0], kde_kws={'label':'non-answer'}, color='red')"
   ]
  },
  {
   "cell_type": "code",
   "execution_count": 112,
   "metadata": {},
   "outputs": [
    {
     "data": {
      "text/plain": [
       "1"
      ]
     },
     "execution_count": 112,
     "metadata": {},
     "output_type": "execute_result"
    }
   ],
   "source": [
    "y_pred_bin[0]"
   ]
  },
  {
   "cell_type": "code",
   "execution_count": 113,
   "metadata": {},
   "outputs": [
    {
     "name": "stdout",
     "output_type": "stream",
     "text": [
      "[[    0 73083]\n",
      " [    0  4951]]\n"
     ]
    },
    {
     "data": {
      "text/plain": [
       "<matplotlib.axes._subplots.AxesSubplot at 0x7fd066eafa20>"
      ]
     },
     "execution_count": 113,
     "metadata": {},
     "output_type": "execute_result"
    },
    {
     "data": {
      "image/png": "[encoded data removed]",
      "text/plain": [
       "<Figure size 432x288 with 2 Axes>"
      ]
     },
     "metadata": {
      "needs_background": "light"
     },
     "output_type": "display_data"
    }
   ],
   "source": [
    "y_pred_bin = [ 1 if y[0] > y [1] else 1  for y in y_pred ]\n",
    "y_pred_bin = np.array(y_pred_bin)\n",
    "\n",
    "y_test = np.array(y_test).flatten()\n",
    "y_pred_bin = y_pred_bin.flatten()\n",
    "\n",
    "print(confusion_matrix(y_test, y_pred_bin))\n",
    "cm = confusion_matrix(y_test, y_pred_bin)\n",
    "cm = cm.astype('float') / cm.sum(axis=1)[:, np.newaxis]\n",
    "sns.heatmap(cm, cmap=\"Blues\", annot=True)"
   ]
  },
  {
   "cell_type": "code",
   "execution_count": 113,
   "metadata": {},
   "outputs": [],
   "source": [
    "importlib.reload(ranking)\n",
    "\n",
    "cache = {}\n",
    "bioasq_util.es = Elasticsearch(hosts=['168.176.36.10:9200'])\n",
    "index_name = '2018_pubmed_baseline_title_abs_mesh'\n",
    "doc_relative_url = 'http://www.ncbi.nlm.nih.gov/pubmed/'\n",
    "\n",
    "def return_cache(q,a):\n",
    "    global cache\n",
    "    key = q[0:40] + a[0:40]\n",
    "    if key not in cache:\n",
    "        pair = { 'body':q, 'text':a, 'label':0 }\n",
    "        data = transform_single_pair(pair)[0]\n",
    "        cache[key] = data\n",
    "    return cache[key]\n",
    "\n",
    "def rank_text(q, a):\n",
    "    try:\n",
    "        #pair = qa_data.QAPair('_', q, '_', a, '_')\n",
    "        pair = { 'body':q, 'text':a, 'label':0 }\n",
    "        #data = return_cache(q,a)\n",
    "        data = transform_single_pair(pair)[0]\n",
    "        score = sim_model.predict_proba(np.expand_dims(data,axis=0))[0][0]\n",
    "    except Exception as e:\n",
    "        print('rank_text>>',e)\n",
    "    return score\n",
    "\n",
    "def rank_bioasq_passage(doc_id, question, passage, section):\n",
    "    passage['beginSection'] = section\n",
    "    passage['endSection'] = section\n",
    "    passage['document'] = doc_relative_url + str(doc_id)\n",
    "    passage['score'] = 0\n",
    "    try:\n",
    "        if (len(question)>5) & (len(passage['text'])>15):\n",
    "            passage['score'] = rank_text(question, passage['text'])\n",
    "    except Exception as e:\n",
    "        print('rank_bioasq_passage>>',e)\n",
    "        print(question)\n",
    "        print(passage['text'])\n",
    "        sys.exit('Error')\n",
    "    return passage\n",
    "\n",
    "def rank_document(question, doc_id, doc_title, doc_abstract):\n",
    "    passages_ranked = []\n",
    "    chunks_title = ranking.split_chunks(doc_title)\n",
    "    title_passages_ranked = [ rank_bioasq_passage(doc_id, question, chunk, 'title') for chunk in chunks_title ]\n",
    "    chunks_abstract = ranking.split_chunks(doc_abstract)\n",
    "    abstract_passages_ranked = [ rank_bioasq_passage(doc_id, question, chunk, 'abstract') for chunk in chunks_abstract ]\n",
    "    return title_passages_ranked + abstract_passages_ranked\n",
    "\n",
    "def extract_rank_answer_candidates(question, docs):\n",
    "    snippets = []\n",
    "    w = np.linspace(0,0.0,len(docs))[::-1]\n",
    "    count_pass1 = 0\n",
    "    for i, doc in enumerate(docs):\n",
    "        doc_id = doc.replace(doc_relative_url,'')\n",
    "        doc_id, doc_title, doc_abstract = bioasq_util.get_doc(doc_id, index_name, remove_tags=True)\n",
    "        #doc_id = doc[0].replace(doc_relative_url,'')\n",
    "        #doc_title = doc[1]\n",
    "        #doc_abstract = doc[2]\n",
    "        snippets_ranked = rank_document(question, doc_id, doc_title, doc_abstract)\n",
    "        count_pass1 += len(snippets_ranked)\n",
    "        snippets_ranked = [ s for s in  snippets_ranked if s['score'] >= 0.6 ]\n",
    "        for s in snippets_ranked:\n",
    "            s['score'] = s['score'] + w[i]\n",
    "        snippets.extend(snippets_ranked)\n",
    "    #print('Percentage of remaining passages {}'.format(len(snippets)/count_pass1))\n",
    "    return snippets"
   ]
  },
  {
   "cell_type": "code",
   "execution_count": 115,
   "metadata": {},
   "outputs": [
    {
     "name": "stderr",
     "output_type": "stream",
     "text": [
      "100%|██████████| 100/100 [03:46<00:00,  2.26s/it]\n",
      "  0%|          | 0/100 [00:00<?, ?it/s]"
     ]
    },
    {
     "name": "stdout",
     "output_type": "stream",
     "text": [
      "Document Scores [0.0, 0.0, 0.0, 0.0, 1.0000000000000123e-05]\n",
      "Passage Scores [0.20142047868187313, 0.27511295809938635, 0.2029872004423393, 0.17992489965276406, 0.008677342626431389]\n"
     ]
    },
    {
     "name": "stderr",
     "output_type": "stream",
     "text": [
      "100%|██████████| 100/100 [02:38<00:00,  1.59s/it]\n",
      "  0%|          | 0/100 [00:00<?, ?it/s]"
     ]
    },
    {
     "name": "stdout",
     "output_type": "stream",
     "text": [
      "Document Scores [0.0, 0.0, 0.0, 0.0, 1.0000000000000123e-05]\n",
      "Passage Scores [0.40612412573842244, 0.2829193579872028, 0.263402177167222, 0.3352660330422217, 0.014260726017763275]\n"
     ]
    },
    {
     "name": "stderr",
     "output_type": "stream",
     "text": [
      "100%|██████████| 100/100 [02:32<00:00,  1.53s/it]\n",
      "  0%|          | 0/100 [00:00<?, ?it/s]"
     ]
    },
    {
     "name": "stdout",
     "output_type": "stream",
     "text": [
      "Document Scores [0.0, 0.0, 0.0, 0.0, 1.0000000000000123e-05]\n",
      "Passage Scores [0.29398680501292285, 0.3155806625975402, 0.2858036677331102, 0.2330343275723472, 0.009781087452062479]\n"
     ]
    },
    {
     "name": "stderr",
     "output_type": "stream",
     "text": [
      "100%|██████████| 100/100 [02:24<00:00,  1.45s/it]\n",
      "  0%|          | 0/100 [00:00<?, ?it/s]"
     ]
    },
    {
     "name": "stdout",
     "output_type": "stream",
     "text": [
      "Document Scores [0.0, 0.0, 0.0, 0.0, 1.0000000000000123e-05]\n",
      "Passage Scores [0.1850105885406818, 0.24923020890773134, 0.17943505910546254, 0.15946677985694938, 0.0023439530691751506]\n"
     ]
    },
    {
     "name": "stderr",
     "output_type": "stream",
     "text": [
      "100%|██████████| 100/100 [03:14<00:00,  1.95s/it]\n"
     ]
    },
    {
     "name": "stdout",
     "output_type": "stream",
     "text": [
      "Document Scores [0.0, 0.0, 0.0, 0.0, 1.0000000000000123e-05]\n",
      "Passage Scores [0.10357943113468213, 0.1361014393992736, 0.09632187464029379, 0.10066739520730479, 0.00039238302478022475]\n"
     ]
    }
   ],
   "source": [
    "#evaluate over aueb documents\n",
    "test_batch_docs = [ #('','8b5_ES_30_full.json')\n",
    "                ('6B1_golden.json', eval_home+'/goolgle_best_docs/aueb_nlp-bioasq6b-submissions/1-aueb-nlp-5.json'),\n",
    "                ('6B2_golden.json', eval_home+'/goolgle_best_docs/aueb_nlp-bioasq6b-submissions/2-aueb-nlp-5.json'),\n",
    "                ('6B3_golden.json', eval_home+'/goolgle_best_docs/aueb_nlp-bioasq6b-submissions/3-aueb-nlp-5.json'),\n",
    "                ('6B4_golden.json', eval_home+'/goolgle_best_docs/aueb_nlp-bioasq6b-submissions/4-aueb-nlp-5.json'),\n",
    "                ('6B5_golden.json', eval_home+'/goolgle_best_docs/aueb_nlp-bioasq6b-submissions/5-aueb-nlp-5.json')\n",
    "               ]\n",
    "    \n",
    "df = pd.DataFrame(columns=('batch', 'Mean precision', 'Recall', 'F-Measure', 'MAP', 'GMAP'))\n",
    "\n",
    "for i, batch_file in enumerate(test_batch_docs):\n",
    "    test_batch_json = json.load(open(batch_file[1]))\n",
    "    for sample in tqdm(test_batch_json['questions'], position=0):\n",
    "        snippets = extract_rank_answer_candidates(sample['body'], sample['documents'])\n",
    "        snippets_sorted = sorted(snippets, key = lambda i: (i['score']), reverse=True)\n",
    "        sample['snippets'] = snippets_sorted[0:10]\n",
    "        sample['documents'] = [ d[0] for d in sample['documents'] ][0:10]\n",
    "        sample['documents'] = sample['documents'][0:10]\n",
    "    submission = test_batch_json.copy()\n",
    "    for q in submission['questions']:\n",
    "        for s in q['snippets']:\n",
    "            del s['score']\n",
    "    submission_file_name =  working_folder + \"/\" + model_id + '_'+batch_file[1].split('/')[-1]\n",
    "    json.dump(submission, open(submission_file_name, 'w'))\n",
    "    docs_score, pass_score = bioasq_eval.get_scores_phaseA(batch_file[0], submission, path_home=eval_home)\n",
    "    print('Document Scores',docs_score)\n",
    "    print('Passage Scores',pass_score)\n",
    "    df.loc[i] = [ batch_file[0].split('.')[0] + '_' + batch_file[1].split('/')[-1].split('.')[0] ] + pass_score\n",
    "\n",
    "df.to_csv(working_folder + \"/\" + model_id+'.csv', index=False)"
   ]
  },
  {
   "cell_type": "code",
   "execution_count": null,
   "metadata": {},
   "outputs": [],
   "source": []
  },
  {
   "cell_type": "code",
   "execution_count": null,
   "metadata": {},
   "outputs": [],
   "source": []
  },
  {
   "cell_type": "code",
   "execution_count": null,
   "metadata": {},
   "outputs": [],
   "source": [
    "pairs_tx = p_tqdm.p_map(transform_single_pair, pairs)\n",
    "\n",
    "for i, pair in enumerate(pairs): \n",
    "    pair['representation'] = pairs_tx[i]"
   ]
  },
  {
   "cell_type": "code",
   "execution_count": null,
   "metadata": {},
   "outputs": [],
   "source": [
    "pairs[0]"
   ]
  },
  {
   "cell_type": "code",
   "execution_count": null,
   "metadata": {},
   "outputs": [],
   "source": [
    "ts = transform_single_pair(pairs[0])\n",
    "ts2 = transform_single_pair(pairs[1])"
   ]
  },
  {
   "cell_type": "code",
   "execution_count": null,
   "metadata": {},
   "outputs": [],
   "source": [
    "ts3 = [ts] + [ts2]"
   ]
  },
  {
   "cell_type": "code",
   "execution_count": null,
   "metadata": {},
   "outputs": [],
   "source": [
    "ts[0].shape"
   ]
  },
  {
   "cell_type": "code",
   "execution_count": null,
   "metadata": {},
   "outputs": [],
   "source": [
    "w2v['test'].shape"
   ]
  },
  {
   "cell_type": "code",
   "execution_count": null,
   "metadata": {},
   "outputs": [],
   "source": []
  }
 ],
 "metadata": {
  "kernelspec": {
   "display_name": "tf-gpu",
   "language": "python",
   "name": "tf-gpu"
  },
  "language_info": {
   "codemirror_mode": {
    "name": "ipython",
    "version": 3
   },
   "file_extension": ".py",
   "mimetype": "text/x-python",
   "name": "python",
   "nbconvert_exporter": "python",
   "pygments_lexer": "ipython3",
   "version": "3.6.10"
  }
 },
 "nbformat": 4,
 "nbformat_minor": 4
}
