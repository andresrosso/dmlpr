{
 "cells": [
  {
   "cell_type": "code",
   "execution_count": null,
   "metadata": {},
   "outputs": [],
   "source": [
    "!pip install gensim\n",
    "!pip install sentencepiece\n",
    "!pip install tensorflow_hub\n",
    "!pip install lxml\n",
    "!pip install spacy\n",
    "!pip install elasticsearch\n",
    "!pip freeze > requirements.txt\n",
    "!pip install -r requirements.txt\n",
    "!pip install ntlk\n",
    "#this library is for parallel execution with progress bar\n",
    "!pip install p_tqdm\n",
    "!pip install tqdm"
   ]
  },
  {
   "cell_type": "code",
   "execution_count": null,
   "metadata": {},
   "outputs": [],
   "source": [
    "#scispacy \n",
    "#https://allenai.github.io/scispacy/\n",
    "!pip install pip install spacy\n",
    "!pip install https://s3-us-west-2.amazonaws.com/ai2-s2-scispacy/releases/v0.2.4/en_core_sci_md-0.2.4.tar.gz"
   ]
  },
  {
   "cell_type": "code",
   "execution_count": null,
   "metadata": {},
   "outputs": [],
   "source": [
    "!pip install nltk"
   ]
  },
  {
   "cell_type": "code",
   "execution_count": null,
   "metadata": {},
   "outputs": [],
   "source": [
    "import nltk\n",
    "nltk.download('stopwords')\n",
    "nltk.download('punkt')\n",
    "nltk.download('averaged_perceptron_tagger')"
   ]
  },
  {
   "cell_type": "code",
   "execution_count": 9,
   "metadata": {},
   "outputs": [
    {
     "name": "stdout",
     "output_type": "stream",
     "text": [
      "/home/aerossom/git_repos\n",
      "Cloning into 'bert'...\n",
      "remote: Enumerating objects: 340, done.\u001b[K\n",
      "remote: Total 340 (delta 0), reused 0 (delta 0), pack-reused 340\u001b[K\n",
      "Receiving objects: 100% (340/340), 310.70 KiB | 0 bytes/s, done.\n",
      "Resolving deltas: 100% (186/186), done.\n",
      "Checking connectivity... done.\n",
      "--2020-06-08 13:13:49--  https://storage.googleapis.com/bert_models/2018_10_18/uncased_L-12_H-768_A-12.zip\n",
      "Resolving proxyapp.unal.edu.co (proxyapp.unal.edu.co)... 168.176.239.30\n",
      "Connecting to proxyapp.unal.edu.co (proxyapp.unal.edu.co)|168.176.239.30|:8080... connected.\n",
      "Proxy request sent, awaiting response... 200 OK\n",
      "Length: 407727028 (389M) [application/zip]\n",
      "Saving to: 'uncased_L-12_H-768_A-12.zip'\n",
      "\n",
      "uncased_L-12_H-768_ 100%[===================>] 388.84M  10.8MB/s    in 39s     \n",
      "\n",
      "2020-06-08 13:14:28 (10.1 MB/s) - 'uncased_L-12_H-768_A-12.zip' saved [407727028/407727028]\n",
      "\n",
      "Archive:  uncased_L-12_H-768_A-12.zip\n",
      "   creating: uncased_L-12_H-768_A-12/\n",
      "  inflating: uncased_L-12_H-768_A-12/bert_model.ckpt.meta  \n",
      "  inflating: uncased_L-12_H-768_A-12/bert_model.ckpt.data-00000-of-00001  \n",
      "  inflating: uncased_L-12_H-768_A-12/vocab.txt  \n",
      "  inflating: uncased_L-12_H-768_A-12/bert_model.ckpt.index  \n",
      "  inflating: uncased_L-12_H-768_A-12/bert_config.json  \n"
     ]
    }
   ],
   "source": [
    "#bert download\n",
    "!cd .. && pwd && git clone https://github.com/google-research/bert.git\n",
    "!cd ../bert && mkdir checkpoints\n",
    "!cd ../bert/checkpoints && wget https://storage.googleapis.com/bert_models/2018_10_18/uncased_L-12_H-768_A-12.zip\n",
    "!cd ../bert/checkpoints && unzip uncased_L-12_H-768_A-12.zip"
   ]
  },
  {
   "cell_type": "code",
   "execution_count": 10,
   "metadata": {},
   "outputs": [
    {
     "name": "stdout",
     "output_type": "stream",
     "text": [
      "--2020-06-08 13:14:33--  https://docs.google.com/uc?export=download&confirm=cofK&id=1R84voFKHfWV9xjzeLzWBbmY1uOMYpnyD\n",
      "Resolving proxyapp.unal.edu.co (proxyapp.unal.edu.co)... 168.176.239.30\n",
      "Connecting to proxyapp.unal.edu.co (proxyapp.unal.edu.co)|168.176.239.30|:8080... connected.\n",
      "Proxy request sent, awaiting response... 302 Moved Temporarily\n",
      "Location: https://doc-0c-a0-docs.googleusercontent.com/docs/securesc/cg8g93i9soc78mka2c6lmt7ec5j6cbku/kjl202bv8cdcbrqie9lo26qc07uk04fs/1591640100000/13799006341648886493/08805792308426396309Z/1R84voFKHfWV9xjzeLzWBbmY1uOMYpnyD?e=download [following]\n",
      "--2020-06-08 13:14:33--  https://doc-0c-a0-docs.googleusercontent.com/docs/securesc/cg8g93i9soc78mka2c6lmt7ec5j6cbku/kjl202bv8cdcbrqie9lo26qc07uk04fs/1591640100000/13799006341648886493/08805792308426396309Z/1R84voFKHfWV9xjzeLzWBbmY1uOMYpnyD?e=download\n",
      "Connecting to proxyapp.unal.edu.co (proxyapp.unal.edu.co)|168.176.239.30|:8080... connected.\n",
      "Proxy request sent, awaiting response... 302 Found\n",
      "Location: https://docs.google.com/nonceSigner?nonce=agfhntguh9i1q&continue=https://doc-0c-a0-docs.googleusercontent.com/docs/securesc/cg8g93i9soc78mka2c6lmt7ec5j6cbku/kjl202bv8cdcbrqie9lo26qc07uk04fs/1591640100000/13799006341648886493/08805792308426396309Z/1R84voFKHfWV9xjzeLzWBbmY1uOMYpnyD?e%3Ddownload&hash=ggso4tfjjtreo9g3rkb0r0dsli33gkb9 [following]\n",
      "--2020-06-08 13:14:34--  https://docs.google.com/nonceSigner?nonce=agfhntguh9i1q&continue=https://doc-0c-a0-docs.googleusercontent.com/docs/securesc/cg8g93i9soc78mka2c6lmt7ec5j6cbku/kjl202bv8cdcbrqie9lo26qc07uk04fs/1591640100000/13799006341648886493/08805792308426396309Z/1R84voFKHfWV9xjzeLzWBbmY1uOMYpnyD?e%3Ddownload&hash=ggso4tfjjtreo9g3rkb0r0dsli33gkb9\n",
      "Connecting to proxyapp.unal.edu.co (proxyapp.unal.edu.co)|168.176.239.30|:8080... connected.\n",
      "Proxy request sent, awaiting response... 302 Found\n",
      "Location: https://doc-0c-a0-docs.googleusercontent.com/docs/securesc/cg8g93i9soc78mka2c6lmt7ec5j6cbku/kjl202bv8cdcbrqie9lo26qc07uk04fs/1591640100000/13799006341648886493/08805792308426396309Z/1R84voFKHfWV9xjzeLzWBbmY1uOMYpnyD?e=download&nonce=agfhntguh9i1q&user=08805792308426396309Z&hash=n2aul6ach819t3fk14m7f0icg8rdqm7l [following]\n",
      "--2020-06-08 13:14:34--  https://doc-0c-a0-docs.googleusercontent.com/docs/securesc/cg8g93i9soc78mka2c6lmt7ec5j6cbku/kjl202bv8cdcbrqie9lo26qc07uk04fs/1591640100000/13799006341648886493/08805792308426396309Z/1R84voFKHfWV9xjzeLzWBbmY1uOMYpnyD?e=download&nonce=agfhntguh9i1q&user=08805792308426396309Z&hash=n2aul6ach819t3fk14m7f0icg8rdqm7l\n",
      "Connecting to proxyapp.unal.edu.co (proxyapp.unal.edu.co)|168.176.239.30|:8080... connected.\n",
      "Proxy request sent, awaiting response... 200 OK\n",
      "Length: unspecified [application/x-gzip]\n",
      "Saving to: 'biobert.tar.gz'\n",
      "\n",
      "biobert.tar.gz          [              <=>   ] 382.81M  10.0MB/s    in 38s     \n",
      "\n",
      "2020-06-08 13:15:13 (10.1 MB/s) - 'biobert.tar.gz' saved [401403346]\n",
      "\n",
      "biobert_v1.1_pubmed/\n",
      "biobert_v1.1_pubmed/model.ckpt-1000000.data-00000-of-00001\n",
      "biobert_v1.1_pubmed/model.ckpt-1000000.meta\n",
      "biobert_v1.1_pubmed/bert_config.json\n",
      "biobert_v1.1_pubmed/vocab.txt\n",
      "biobert_v1.1_pubmed/model.ckpt-1000000.index\n"
     ]
    }
   ],
   "source": [
    "!cd ../bert/checkpoints && wget --load-cookies /tmp/cookies.txt \"https://docs.google.com/uc?export=download&confirm=$(wget --quiet --save-cookies /tmp/cookies.txt --keep-session-cookies --no-check-certificate 'https://docs.google.com/uc?export=download&id=1R84voFKHfWV9xjzeLzWBbmY1uOMYpnyD' -O- | sed -rn 's/.*confirm=([0-9A-Za-z_]+).*/\\1\\n/p')&id=1R84voFKHfWV9xjzeLzWBbmY1uOMYpnyD\" -O biobert.tar.gz && rm -rf /tmp/cookies.txt\n",
    "!cd ../bert/checkpoints && tar xvzf biobert.tar.gz "
   ]
  },
  {
   "cell_type": "code",
   "execution_count": 11,
   "metadata": {},
   "outputs": [
    {
     "name": "stdout",
     "output_type": "stream",
     "text": [
      "biobert.tar.gz\t     uncased_L-12_H-768_A-12\r\n",
      "biobert_v1.1_pubmed  uncased_L-12_H-768_A-12.zip\r\n"
     ]
    }
   ],
   "source": [
    "!ls ../bert/checkpoints"
   ]
  },
  {
   "cell_type": "code",
   "execution_count": 12,
   "metadata": {},
   "outputs": [],
   "source": [
    "#remove big files from commit\n",
    "#git filter-branch --force --index-filter 'git rm --cached --ignore-unmatch train-data/train_pairs/related_docs_negative_pairs_BioASQ-trainingDataset8b.json' --prune-empty --tag-name-filter cat -- --all"
   ]
  },
  {
   "cell_type": "code",
   "execution_count": 13,
   "metadata": {},
   "outputs": [
    {
     "name": "stdout",
     "output_type": "stream",
     "text": [
      "bert_config.json\t\t     bert_model.ckpt.index  vocab.txt\r\n",
      "bert_model.ckpt.data-00000-of-00001  bert_model.ckpt.meta\r\n"
     ]
    }
   ],
   "source": [
    "!ls ../bert/checkpoints/uncased_L-12_H-768_A-12"
   ]
  },
  {
   "cell_type": "code",
   "execution_count": 14,
   "metadata": {},
   "outputs": [
    {
     "name": "stdout",
     "output_type": "stream",
     "text": [
      "bert_config.json\t\t\tmodel.ckpt-1000000.index  vocab.txt\r\n",
      "model.ckpt-1000000.data-00000-of-00001\tmodel.ckpt-1000000.meta\r\n"
     ]
    }
   ],
   "source": [
    "!ls ../bert/checkpoints/biobert_v1.1_pubmed"
   ]
  },
  {
   "cell_type": "code",
   "execution_count": null,
   "metadata": {},
   "outputs": [],
   "source": []
  }
 ],
 "metadata": {
  "kernelspec": {
   "display_name": "tf-gpu",
   "language": "python",
   "name": "tf-gpu"
  },
  "language_info": {
   "codemirror_mode": {
    "name": "ipython",
    "version": 3
   },
   "file_extension": ".py",
   "mimetype": "text/x-python",
   "name": "python",
   "nbconvert_exporter": "python",
   "pygments_lexer": "ipython3",
   "version": "3.6.10"
  }
 },
 "nbformat": 4,
 "nbformat_minor": 4
}
